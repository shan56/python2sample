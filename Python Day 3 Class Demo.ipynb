{
 "cells": [
  {
   "cell_type": "code",
   "execution_count": null,
   "metadata": {},
   "outputs": [],
   "source": [
    "# # call-by-value upto here "
   ]
  },
  {
   "cell_type": "code",
   "execution_count": 13,
   "metadata": {},
   "outputs": [
    {
     "name": "stdout",
     "output_type": "stream",
     "text": [
      "['Happy', 'Grumpy', 'Sleepy', 'Bashful', 'Sneezy', 'Doc', 'Dopey']\n"
     ]
    }
   ],
   "source": [
    "# BEGIN\n",
    "# list\n",
    "seven_dwarves = [\"Happy\", \"Grumpy\", \"Sleepy\", \"Bashful\", \"Sneezy\", \"Doc\", \"Dopey\"]\n",
    "print(seven_dwarves)"
   ]
  },
  {
   "cell_type": "code",
   "execution_count": 23,
   "metadata": {},
   "outputs": [
    {
     "name": "stdout",
     "output_type": "stream",
     "text": [
      "['George Washington', '1st', 1789, 1797]\n"
     ]
    }
   ],
   "source": [
    "person = ['George Washington', '1st', 1789, 1797]\n",
    "print(person)"
   ]
  },
  {
   "cell_type": "code",
   "execution_count": 21,
   "metadata": {},
   "outputs": [
    {
     "name": "stdout",
     "output_type": "stream",
     "text": [
      "George Washington\n"
     ]
    }
   ],
   "source": [
    "name = person[0]\n",
    "print(name)"
   ]
  },
  {
   "cell_type": "code",
   "execution_count": 28,
   "metadata": {},
   "outputs": [
    {
     "name": "stdout",
     "output_type": "stream",
     "text": [
      "Name: \t\t\tGeorge Washington\n",
      "President: \t\t1st\n",
      "Terms of Office: \t1789-1797\n"
     ]
    }
   ],
   "source": [
    "print(f\"Name: \\t\\t\\t{person[0]}\")                         # first item\n",
    "print(f\"President: \\t\\t{person[1]}\")                      # second item\n",
    "print(f\"Terms of Office: \\t{person[-2]}-{person[-1]}\")    # second to last - the last"
   ]
  },
  {
   "cell_type": "code",
   "execution_count": 56,
   "metadata": {},
   "outputs": [
    {
     "name": "stdout",
     "output_type": "stream",
     "text": [
      "[]\n",
      "[0, 0, 0, 0, 0, 0, 0, 0, 0, 0]\n",
      "['', '', '', '', '', '', '']\n"
     ]
    }
   ],
   "source": [
    "shopping_list = []\n",
    "prices = [0] * 10\n",
    "notempty = [\"\"] * 7\n",
    "print(shopping_list)\n",
    "print(prices)\n",
    "print(notempty)             # list is not empty"
   ]
  },
  {
   "cell_type": "code",
   "execution_count": 50,
   "metadata": {},
   "outputs": [
    {
     "name": "stdout",
     "output_type": "stream",
     "text": [
      "0\n",
      "10\n",
      "7\n"
     ]
    }
   ],
   "source": [
    "print(len(shopping_list))\n",
    "print(len(prices))\n",
    "print(len(notempty))"
   ]
  },
  {
   "cell_type": "code",
   "execution_count": 57,
   "metadata": {},
   "outputs": [
    {
     "name": "stdout",
     "output_type": "stream",
     "text": [
      "['eggs']\n",
      "1\n"
     ]
    }
   ],
   "source": [
    "shopping_list.append('eggs')\n",
    "print(shopping_list)\n",
    "print(len(shopping_list))"
   ]
  },
  {
   "cell_type": "code",
   "execution_count": 58,
   "metadata": {},
   "outputs": [
    {
     "name": "stdout",
     "output_type": "stream",
     "text": [
      "['eggs', 'milk', 'bread']\n",
      "3\n"
     ]
    }
   ],
   "source": [
    "shopping_list.append('milk')\n",
    "shopping_list.append('bread')\n",
    "\n",
    "print(shopping_list)\n",
    "print(len(shopping_list))"
   ]
  },
  {
   "cell_type": "code",
   "execution_count": 59,
   "metadata": {},
   "outputs": [
    {
     "name": "stdout",
     "output_type": "stream",
     "text": [
      "['eggs', 'coffee', 'milk', 'bread']\n",
      "4\n"
     ]
    }
   ],
   "source": [
    "shopping_list.insert(1, 'coffee')\n",
    "\n",
    "print(shopping_list)\n",
    "print(len(shopping_list))"
   ]
  },
  {
   "cell_type": "code",
   "execution_count": 60,
   "metadata": {},
   "outputs": [
    {
     "name": "stdout",
     "output_type": "stream",
     "text": [
      "['eggs', 'coffee', 'bread']\n",
      "3\n"
     ]
    }
   ],
   "source": [
    "shopping_list.remove('milk')\n",
    "\n",
    "print(shopping_list)\n",
    "print(len(shopping_list))"
   ]
  },
  {
   "cell_type": "code",
   "execution_count": 61,
   "metadata": {},
   "outputs": [
    {
     "name": "stdout",
     "output_type": "stream",
     "text": [
      "['eggs', 'coffee']\n",
      "2\n",
      "bread\n"
     ]
    }
   ],
   "source": [
    "# pop() removes the last item\n",
    "item = shopping_list.pop()\n",
    "\n",
    "print(shopping_list)\n",
    "print(len(shopping_list))\n",
    "print(item)"
   ]
  },
  {
   "cell_type": "code",
   "execution_count": 62,
   "metadata": {},
   "outputs": [
    {
     "name": "stdout",
     "output_type": "stream",
     "text": [
      "['coffee']\n",
      "1\n",
      "eggs\n"
     ]
    }
   ],
   "source": [
    "# pop(index) removes indexed item\n",
    "item = shopping_list.pop(0)\n",
    "\n",
    "print(shopping_list)\n",
    "print(len(shopping_list))\n",
    "print(item)"
   ]
  },
  {
   "cell_type": "code",
   "execution_count": 63,
   "metadata": {},
   "outputs": [
    {
     "name": "stdout",
     "output_type": "stream",
     "text": [
      "['coffee', 'apples', 'ice cream']\n",
      "3\n"
     ]
    }
   ],
   "source": [
    "# extend()\n",
    "new_list = ['apples', 'ice cream']\n",
    "shopping_list.extend(new_list)\n",
    "\n",
    "print(shopping_list)\n",
    "print(len(shopping_list))"
   ]
  },
  {
   "cell_type": "code",
   "execution_count": 64,
   "metadata": {},
   "outputs": [
    {
     "name": "stdout",
     "output_type": "stream",
     "text": [
      "['apples', 'coffee', 'ice cream']\n",
      "3\n"
     ]
    }
   ],
   "source": [
    "# sort()\n",
    "shopping_list.sort()\n",
    "\n",
    "print(shopping_list)\n",
    "print(len(shopping_list))"
   ]
  },
  {
   "cell_type": "code",
   "execution_count": 66,
   "metadata": {},
   "outputs": [
    {
     "name": "stdout",
     "output_type": "stream",
     "text": [
      "['ice cream', 'coffee', 'apples']\n"
     ]
    }
   ],
   "source": [
    "shopping_list.sort(reverse=True)\n",
    "\n",
    "print(shopping_list)"
   ]
  },
  {
   "cell_type": "code",
   "execution_count": 82,
   "metadata": {},
   "outputs": [
    {
     "name": "stdout",
     "output_type": "stream",
     "text": [
      "['I,', 'Foo,', 'love', 'Python']\n"
     ]
    }
   ],
   "source": [
    "msg = \"I, Foo, love Python\"\n",
    "msg_list = msg.split()\n",
    "print(msg_list)"
   ]
  },
  {
   "cell_type": "code",
   "execution_count": 83,
   "metadata": {},
   "outputs": [
    {
     "name": "stdout",
     "output_type": "stream",
     "text": [
      "['I', 'Foo', 'love Python']\n"
     ]
    }
   ],
   "source": [
    "msg_list = msg.split(', ')\n",
    "print(msg_list)"
   ]
  },
  {
   "cell_type": "code",
   "execution_count": 86,
   "metadata": {},
   "outputs": [
    {
     "name": "stdout",
     "output_type": "stream",
     "text": [
      "['I', 'Foo, love Python']\n"
     ]
    }
   ],
   "source": [
    "msg_list = msg.split(', ', 1)\n",
    "print(msg_list)"
   ]
  },
  {
   "cell_type": "code",
   "execution_count": 71,
   "metadata": {},
   "outputs": [
    {
     "name": "stdout",
     "output_type": "stream",
     "text": [
      "[6, 9, 18, 7, 8]\n",
      "[6, 7, 8, 9]\n"
     ]
    }
   ],
   "source": [
    "# Exercise 1\n",
    "import random as rand\n",
    "\n",
    "numbers = []\n",
    "numb1 = rand.randint(1, 25)\n",
    "numbers.append(numb1)\n",
    "numbers.append(rand.randint(1, 25))\n",
    "numbers.append(rand.randint(1, 25))\n",
    "numbers.append(rand.randint(1, 25))\n",
    "numbers.append(rand.randint(1, 25))\n",
    "print(numbers)\n",
    "\n",
    "numbers.sort()\n",
    "numbers.pop()\n",
    "print(numbers)"
   ]
  },
  {
   "cell_type": "code",
   "execution_count": null,
   "metadata": {},
   "outputs": [],
   "source": []
  },
  {
   "cell_type": "code",
   "execution_count": null,
   "metadata": {},
   "outputs": [],
   "source": []
  },
  {
   "cell_type": "code",
   "execution_count": null,
   "metadata": {},
   "outputs": [],
   "source": []
  },
  {
   "cell_type": "code",
   "execution_count": 11,
   "metadata": {},
   "outputs": [
    {
     "name": "stdout",
     "output_type": "stream",
     "text": [
      "1\n",
      "2\n",
      "3\n",
      "4\n"
     ]
    }
   ],
   "source": [
    "# for loop\n",
    "for x in range(1, 6) :\n",
    "    print(x)"
   ]
  },
  {
   "cell_type": "code",
   "execution_count": 15,
   "metadata": {},
   "outputs": [
    {
     "name": "stdout",
     "output_type": "stream",
     "text": [
      "1\n",
      "3\n",
      "5\n",
      "7\n",
      "9\n",
      "11\n",
      "13\n",
      "15\n",
      "17\n",
      "19\n"
     ]
    }
   ],
   "source": [
    "# for loop\n",
    "for x in range(1, 21, 2) :\n",
    "    print(x)"
   ]
  },
  {
   "cell_type": "code",
   "execution_count": 14,
   "metadata": {},
   "outputs": [
    {
     "name": "stdout",
     "output_type": "stream",
     "text": [
      "P\n",
      "y\n",
      "t\n",
      "h\n",
      "o\n",
      "n\n"
     ]
    }
   ],
   "source": [
    "for char in \"Python\" :\n",
    "    print(char)"
   ]
  },
  {
   "cell_type": "code",
   "execution_count": 19,
   "metadata": {},
   "outputs": [
    {
     "name": "stdout",
     "output_type": "stream",
     "text": [
      "Happy\n",
      "Grumpy\n",
      "Sleepy\n",
      "Bashful\n",
      "Sneezy\n",
      "Doc\n",
      "Dopey\n",
      "\n",
      "There are 7 dwarves and Snow White\n"
     ]
    }
   ],
   "source": [
    "# list & for loop\n",
    "\n",
    "seven_dwarves = [\"Happy\", \"Grumpy\", \"Sleepy\", \"Bashful\", \"Sneezy\", \"Doc\", \"Dopey\"]\n",
    "counter = 0\n",
    "for dwarf in seven_dwarves : \n",
    "    print(dwarf)\n",
    "    counter += 1\n",
    "\n",
    "print(f\"\\nThere are {counter} dwarves and Snow White\")\n",
    "                 "
   ]
  },
  {
   "cell_type": "code",
   "execution_count": null,
   "metadata": {},
   "outputs": [],
   "source": [
    "# using break statement\n",
    "answers = [\"A\",\"C\", \"\", \"B\", \"D\"]\n",
    "for answer in answers : \n",
    "    if answer == \"\" :\n",
    "        print(\"Incomplete\")\n",
    "        break;\n",
    "        \n",
    "    print(answer)    \n",
    "    \n",
    "print(\"Done!\")    "
   ]
  },
  {
   "cell_type": "code",
   "execution_count": null,
   "metadata": {},
   "outputs": [],
   "source": [
    "# using continue statement\n",
    "answers = [\"A\",\"C\", \"\", \"B\", \"D\"]\n",
    "for answer in answers : \n",
    "    if answer == \"\" :\n",
    "        print(\"Incomplete\")\n",
    "        continue;\n",
    "        \n",
    "    print(answer)    \n",
    "    \n",
    "print(\"Done!\")    "
   ]
  },
  {
   "cell_type": "code",
   "execution_count": null,
   "metadata": {},
   "outputs": [],
   "source": [
    "# while loop\n",
    "counter = 1\n",
    "while counter <= 5 :\n",
    "    print(counter)\n",
    "    counter += 1\n",
    "    \n",
    "print(\"Done\")    "
   ]
  },
  {
   "cell_type": "code",
   "execution_count": null,
   "metadata": {},
   "outputs": [],
   "source": [
    "choice = \"y\"\n",
    "while choice.lower() == \"y\" :\n",
    "    print(\"Hello!\")\n",
    "    choice = input(\"say hello again? (y/n): \")\n",
    "    \n",
    "print(\"Done\") "
   ]
  },
  {
   "cell_type": "code",
   "execution_count": null,
   "metadata": {},
   "outputs": [],
   "source": [
    "# using break statement\n",
    "while True :\n",
    "    choice = input(\"say hello? (y/n): \")\n",
    "    if choice.lower() != 'y' :\n",
    "        break\n",
    "        \n",
    "    print(\"Hello!\")\n",
    "\n",
    "print(\"Done\")         "
   ]
  },
  {
   "cell_type": "code",
   "execution_count": 2,
   "metadata": {},
   "outputs": [
    {
     "name": "stdout",
     "output_type": "stream",
     "text": [
      "say hello? (y/n): y\n",
      "Hello!\n",
      "say hello? (y/n): q\n",
      "say hello? (y/n): n\n",
      "In while loop 3 times\n"
     ]
    }
   ],
   "source": [
    "# using break & continue statements\n",
    "counter = 0\n",
    "while True :\n",
    "    counter += 1\n",
    "    choice = input(\"say hello? (y/n): \")\n",
    "    choice = choice.lower()\n",
    "    if choice == 'n' :\n",
    "        break\n",
    "        \n",
    "    if choice != 'y' :\n",
    "        continue\n",
    "        \n",
    "    print(\"Hello!\")\n",
    "\n",
    "print(f\"In while loop {counter} times\")     "
   ]
  },
  {
   "cell_type": "code",
   "execution_count": 3,
   "metadata": {},
   "outputs": [
    {
     "name": "stdout",
     "output_type": "stream",
     "text": [
      "$26,532.98\n"
     ]
    }
   ],
   "source": [
    "# Exercise 3 using for loop\n",
    "# If you make a one-time investment of $10,000 and you get 5% yearly interest, what will the \n",
    "# value be after 20 years?\n",
    "\n",
    "investment = 10000\n",
    "for i in range(20) :\n",
    "    yr_interest = investment * 0.05\n",
    "    investment += yr_interest\n",
    "    \n",
    "print(f\"${investment:,.2f}\")    \n"
   ]
  },
  {
   "cell_type": "code",
   "execution_count": 4,
   "metadata": {},
   "outputs": [
    {
     "name": "stdout",
     "output_type": "stream",
     "text": [
      "$26,532.98\n"
     ]
    }
   ],
   "source": [
    "# Exercise 3 using while loop\n",
    "# If you make a one-time investment of $10,000 and you get 5% yearly interest, what will the \n",
    "# value be after 20 years?\n",
    "\n",
    "investment = 10000\n",
    "year = 0\n",
    "while year < 20 :\n",
    "    yr_interest = investment * 0.05\n",
    "    investment += yr_interest\n",
    "    year += 1\n",
    "    \n",
    "print(f\"${investment:,.2f}\")    "
   ]
  },
  {
   "cell_type": "code",
   "execution_count": 76,
   "metadata": {},
   "outputs": [
    {
     "name": "stdout",
     "output_type": "stream",
     "text": [
      "first\n",
      "1\n",
      "2\n",
      "3\n",
      "********************\n",
      "\n",
      "second\n",
      "1\n",
      "2\n",
      "3\n",
      "********************\n",
      "\n",
      "third\n",
      "1\n",
      "2\n",
      "3\n",
      "********************\n",
      "\n"
     ]
    }
   ],
   "source": [
    "# nested loops\n",
    "for outer in [\"first\", \"second\", \"third\"] :\n",
    "    print(outer)\n",
    "    for inner in range(3) :\n",
    "        print(inner + 1)\n",
    "        \n",
    "    print(\"*\" * 20)\n",
    "    print()"
   ]
  },
  {
   "cell_type": "code",
   "execution_count": 78,
   "metadata": {},
   "outputs": [
    {
     "name": "stdout",
     "output_type": "stream",
     "text": [
      "Enter a number: 3\n",
      "1\n",
      "2\n",
      "3\n",
      "Continue? (y/n)y\n",
      "********************\n",
      "Enter a number: 2\n",
      "1\n",
      "2\n",
      "Continue? (y/n)n\n",
      "********************\n"
     ]
    }
   ],
   "source": [
    "answer = 'y'\n",
    "while answer != 'n' :\n",
    "    index = int(input(\"Enter a number: \"))\n",
    "    for inner in range(index) :\n",
    "        print(inner+ 1)\n",
    "        \n",
    "    answer = input(\"Continue? (y/n)\")\n",
    "    print(\"*\" * 20)"
   ]
  },
  {
   "cell_type": "code",
   "execution_count": null,
   "metadata": {},
   "outputs": [],
   "source": []
  }
 ],
 "metadata": {
  "kernelspec": {
   "display_name": "Python 3",
   "language": "python",
   "name": "python3"
  },
  "language_info": {
   "codemirror_mode": {
    "name": "ipython",
    "version": 3
   },
   "file_extension": ".py",
   "mimetype": "text/x-python",
   "name": "python",
   "nbconvert_exporter": "python",
   "pygments_lexer": "ipython3",
   "version": "3.7.6"
  }
 },
 "nbformat": 4,
 "nbformat_minor": 4
}
