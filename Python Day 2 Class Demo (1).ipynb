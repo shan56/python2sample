{
 "cells": [
  {
   "cell_type": "code",
   "execution_count": 5,
   "metadata": {},
   "outputs": [
    {
     "name": "stdout",
     "output_type": "stream",
     "text": [
      "1\n",
      "1\n",
      "5\n",
      "4\n",
      "4\n"
     ]
    }
   ],
   "source": [
    "import random\n",
    "\n",
    "random.random()\n",
    "print(random.randint(1, 5))\n",
    "print(random.randint(1, 5))\n",
    "print(random.randint(1, 5))\n",
    "print(random.randint(1, 5))\n",
    "print(random.randint(1, 5))"
   ]
  },
  {
   "cell_type": "code",
   "execution_count": 14,
   "metadata": {},
   "outputs": [],
   "source": [
    "x = 3"
   ]
  },
  {
   "cell_type": "code",
   "execution_count": 11,
   "metadata": {},
   "outputs": [
    {
     "name": "stdout",
     "output_type": "stream",
     "text": [
      "0.9572295521117581\n",
      "0.8932824408271361\n"
     ]
    }
   ],
   "source": [
    "# random number generator\n",
    "import random as rand\n",
    "\n",
    "\n",
    "numb1 = rand.random()\n",
    "numb2 = rand.random()\n",
    "print(numb1)\n",
    "print(numb2)"
   ]
  },
  {
   "cell_type": "code",
   "execution_count": null,
   "metadata": {},
   "outputs": [],
   "source": [
    "rand_no1 = rand.randint(1, 10)\n",
    "print(rand_no1)"
   ]
  },
  {
   "cell_type": "code",
   "execution_count": 12,
   "metadata": {},
   "outputs": [
    {
     "name": "stdout",
     "output_type": "stream",
     "text": [
      "4\n",
      "4\n",
      "4\n",
      "3\n",
      "2\n"
     ]
    }
   ],
   "source": [
    "print(rand.randint(2, 5))\n",
    "print(rand.randint(2, 5))\n",
    "print(rand.randint(2, 5))\n",
    "print(rand.randint(2, 5))\n",
    "print(rand.randint(2, 5))"
   ]
  },
  {
   "cell_type": "code",
   "execution_count": 15,
   "metadata": {},
   "outputs": [
    {
     "name": "stdout",
     "output_type": "stream",
     "text": [
      "3\n"
     ]
    }
   ],
   "source": [
    "print(x)"
   ]
  },
  {
   "cell_type": "code",
   "execution_count": 19,
   "metadata": {},
   "outputs": [
    {
     "name": "stdout",
     "output_type": "stream",
     "text": [
      "5\n",
      "##############################\n",
      "5\n",
      "##############################\n",
      "4\n",
      "##############################\n"
     ]
    }
   ],
   "source": [
    "# customized function\n",
    "\n",
    "def my_function() :\n",
    "    x = rand.randint(2, 5)\n",
    "    print(x)\n",
    "\n",
    "    print(\"#\"* 30)\n",
    "    return \n",
    "    \n",
    "    \n",
    "my_function()\n",
    "my_function()\n",
    "my_function()"
   ]
  },
  {
   "cell_type": "code",
   "execution_count": 26,
   "metadata": {},
   "outputs": [
    {
     "name": "stdout",
     "output_type": "stream",
     "text": [
      "Let's do some math with just functions!\n",
      "ADDING 30 + 5.5\n",
      "SUBTRACTING 78 - 4\n",
      "MULTIPLYING 90 * 2\n",
      "DIVIDING 100 / 2\n",
      "Age: 35.5, Height: 74, Weight: 180, IQ: 50.0\n"
     ]
    }
   ],
   "source": [
    "# returning something with a function\n",
    "\n",
    "def add(a, b):\n",
    "    print(f\"ADDING {a} + {b}\")\n",
    "    # without the f looks like this ADDING {a} + {b}\n",
    "    # with the f it looks like this ADDING 30 + 5\n",
    "    return a + b\n",
    "\n",
    "def subtract(a, b):\n",
    "    print(f\"SUBTRACTING {a} - {b}\")\n",
    "    c = a - b\n",
    "    return c\n",
    "\n",
    "def multiply(a, b):\n",
    "    print(f\"MULTIPLYING {a} * {b}\")\n",
    "    return a * b\n",
    "\n",
    "def divide(a, b):\n",
    "    print(f\"DIVIDING {a} / {b}\")\n",
    "    return a / b\n",
    "\n",
    "\n",
    "print(\"Let's do some math with just functions!\")\n",
    "\n",
    "age = add(30, 5.5) #35.5\n",
    "height = subtract(78, 4)  #74\n",
    "weight = multiply(90, 2) #180\n",
    "iq = divide(100, 2) #50.0\n",
    "\n",
    "print(f\"Age: {age}, Height: {height}, Weight: {weight}, IQ: {iq}\")"
   ]
  },
  {
   "cell_type": "code",
   "execution_count": 22,
   "metadata": {},
   "outputs": [
    {
     "name": "stdout",
     "output_type": "stream",
     "text": [
      "Let's do some math with just functions!\n",
      "ADDING 30 + 5.5\n",
      "SUBTRACTING 78 - 4\n",
      "MULTIPLYING 90 * 2\n",
      "DIVIDING 100 / 2\n",
      "Age: None, Height: None, Weight: None, IQ: None\n"
     ]
    }
   ],
   "source": [
    "# returning something with a function\n",
    "\n",
    "def add2(a, b):\n",
    "    print(f\"ADDING {a} + {b}\")\n",
    "    # without the f looks like this ADDING {a} + {b}\n",
    "    # with the f it looks like this ADDING 30 + 5\n",
    "    #return a + b\n",
    "\n",
    "def subtract2(a, b):\n",
    "    print(f\"SUBTRACTING {a} - {b}\")\n",
    "    c = a - b\n",
    "    #return c\n",
    "\n",
    "def multiply2(a, b):\n",
    "    print(f\"MULTIPLYING {a} * {b}\")\n",
    "    #return a * b\n",
    "\n",
    "def divide2(a, b):\n",
    "    print(f\"DIVIDING {a} / {b}\")\n",
    "    #return a / b\n",
    "\n",
    "\n",
    "print(\"Let's do some math with just functions!\")\n",
    "\n",
    "age2 = add2(30, 5.5) #35.5\n",
    "height2 = subtract2(78, 4)  #74\n",
    "weight2 = multiply2(90, 2) #180\n",
    "iq2 = divide2(100, 2) #50.0\n",
    "\n",
    "print(f\"Age: {age2}, Height: {height2}, Weight: {weight2}, IQ: {iq2}\")"
   ]
  },
  {
   "cell_type": "code",
   "execution_count": 27,
   "metadata": {},
   "outputs": [
    {
     "name": "stdout",
     "output_type": "stream",
     "text": [
      "ADDING 45 + 9.8\n",
      "54.8\n"
     ]
    }
   ],
   "source": [
    "newage = add( 45, 9.8)\n",
    "print(newage)"
   ]
  },
  {
   "cell_type": "code",
   "execution_count": 29,
   "metadata": {},
   "outputs": [
    {
     "name": "stdout",
     "output_type": "stream",
     "text": [
      "ADDING 33 + 9\n",
      "SUBTRACTING 10 - 2\n",
      "8\n"
     ]
    }
   ],
   "source": [
    "add(33, 9)\n",
    "y = subtract(10, 2)\n",
    "print(y)"
   ]
  },
  {
   "cell_type": "code",
   "execution_count": 30,
   "metadata": {},
   "outputs": [
    {
     "name": "stdout",
     "output_type": "stream",
     "text": [
      "Inside add_10 with 25\n",
      "new parm1 = 35\n",
      "index=25\tnew_index=35\n"
     ]
    }
   ],
   "source": [
    "# Call-by-value\n",
    "\n",
    "def add_10( parm1 ) :    \n",
    "    print(f\"Inside add_10 with {parm1}\")\n",
    "    parm1 += 10\n",
    "    print(f\"new parm1 = {parm1}\")\n",
    "    return parm1\n",
    "\n",
    "index = 25\n",
    "new_index = add_10(index)   # add_10 (25)\n",
    "print(f\"index={index}\\tnew_index={new_index}\")\n"
   ]
  },
  {
   "cell_type": "code",
   "execution_count": 31,
   "metadata": {},
   "outputs": [
    {
     "name": "stdout",
     "output_type": "stream",
     "text": [
      "8\n"
     ]
    }
   ],
   "source": [
    "def addition(a, b) :\n",
    "    return a+b\n",
    "\n",
    "print(addition(3, 5))"
   ]
  },
  {
   "cell_type": "code",
   "execution_count": 32,
   "metadata": {},
   "outputs": [
    {
     "name": "stdout",
     "output_type": "stream",
     "text": [
      "9\n"
     ]
    },
    {
     "ename": "TypeError",
     "evalue": "addition() missing 1 required positional argument: 'c'",
     "output_type": "error",
     "traceback": [
      "\u001b[1;31m---------------------------------------------------------------------------\u001b[0m",
      "\u001b[1;31mTypeError\u001b[0m                                 Traceback (most recent call last)",
      "\u001b[1;32m<ipython-input-32-5eb299e982ee>\u001b[0m in \u001b[0;36m<module>\u001b[1;34m\u001b[0m\n\u001b[0;32m      4\u001b[0m \u001b[1;33m\u001b[0m\u001b[0m\n\u001b[0;32m      5\u001b[0m \u001b[0mprint\u001b[0m\u001b[1;33m(\u001b[0m\u001b[0maddition\u001b[0m\u001b[1;33m(\u001b[0m\u001b[1;36m3\u001b[0m\u001b[1;33m,\u001b[0m \u001b[1;36m5\u001b[0m\u001b[1;33m,\u001b[0m \u001b[1;36m1\u001b[0m\u001b[1;33m)\u001b[0m\u001b[1;33m)\u001b[0m\u001b[1;33m\u001b[0m\u001b[1;33m\u001b[0m\u001b[0m\n\u001b[1;32m----> 6\u001b[1;33m \u001b[0mprint\u001b[0m\u001b[1;33m(\u001b[0m\u001b[0maddition\u001b[0m\u001b[1;33m(\u001b[0m\u001b[1;36m3\u001b[0m\u001b[1;33m,\u001b[0m \u001b[1;36m5\u001b[0m\u001b[1;33m)\u001b[0m\u001b[1;33m)\u001b[0m\u001b[1;33m\u001b[0m\u001b[1;33m\u001b[0m\u001b[0m\n\u001b[0m",
      "\u001b[1;31mTypeError\u001b[0m: addition() missing 1 required positional argument: 'c'"
     ]
    }
   ],
   "source": [
    "def addition(a, b, c) :\n",
    "    return a+b+c\n",
    "\n",
    "\n",
    "print(addition(3, 5, 1))\n",
    "print(addition(3, 5))"
   ]
  },
  {
   "cell_type": "code",
   "execution_count": 33,
   "metadata": {},
   "outputs": [
    {
     "name": "stdout",
     "output_type": "stream",
     "text": [
      "8\n",
      "9\n"
     ]
    }
   ],
   "source": [
    "def addition(a, b, c = 0) :\n",
    "    return a+b+c\n",
    "\n",
    "print(addition(3, 5))\n",
    "print(addition(3, 5, 1))"
   ]
  },
  {
   "cell_type": "code",
   "execution_count": 34,
   "metadata": {},
   "outputs": [
    {
     "name": "stdout",
     "output_type": "stream",
     "text": [
      "Miss Piggy likes Kermit\n"
     ]
    }
   ],
   "source": [
    "def matching(person1, person2) :\n",
    "    print(person1 + \" likes \" + person2)\n",
    "\n",
    "name1 = \"Miss Piggy\"\n",
    "name2 = \"Kermit\"\n",
    "matching(name1, name2)\n",
    "    \n",
    "    "
   ]
  },
  {
   "cell_type": "code",
   "execution_count": 35,
   "metadata": {},
   "outputs": [
    {
     "name": "stdout",
     "output_type": "stream",
     "text": [
      "Kermit likes Miss Piggy\n"
     ]
    }
   ],
   "source": [
    "matching(name2, name1)"
   ]
  },
  {
   "cell_type": "code",
   "execution_count": 36,
   "metadata": {},
   "outputs": [
    {
     "name": "stdout",
     "output_type": "stream",
     "text": [
      "Miss Piggy likes Kermit\n",
      "Miss Piggy likes Kermit\n"
     ]
    }
   ],
   "source": [
    "matching(person1= name1, person2=name2)\n",
    "matching(person2=name2, person1= name1)"
   ]
  },
  {
   "cell_type": "code",
   "execution_count": null,
   "metadata": {},
   "outputs": [],
   "source": [
    "# Exercise 1\n",
    "# Write a function to compute the area and perimeter and a program to get input from the user and calls your function for computation & output\n",
    "# The Area and Perimeter Program\n",
    "\n",
    "# Please enter the length:\t25\n",
    "# Please enter the width:\t10\n",
    "\n",
    "# Area is 250\n",
    "# Perimeter is 70\n",
    "\n",
    "def compute(x, y) :\n",
    "    area = x * y\n",
    "    perim = (x + y) * 2\n",
    "    print(f\"\\nArea is {area}\")\n",
    "    print(f\"Perimeter is {perim}\")\n",
    "    \n",
    "\n",
    "print(\"The Area and Perimeter Program\")  \n",
    "length = float(input(\"Please enter the length:\\t\"))\n",
    "width = float(input(\"Please enter the width:\\t\"))\n",
    "compute(width, length)"
   ]
  },
  {
   "cell_type": "code",
   "execution_count": null,
   "metadata": {},
   "outputs": [],
   "source": [
    "# Enhanced Exercise 1 to compute circle's area and circumference as well\n",
    "\n",
    "def compute2(x, y = 0) :\n",
    "    if (y == 0) :   # circle\n",
    "        area = 3.14 * (x**2)    # 3.14 * (radius **2)\n",
    "        perim = 3.14 * (x*2)    # 3.14 * diameter\n",
    "    else :    \n",
    "        area = x * y\n",
    "        perim = (x + y) * 2\n",
    "    \n",
    "    print(f\"\\nArea is {area}\")\n",
    "    print(f\"Circumference/Perimeter is {perim:.2f}\")\n",
    "    \n",
    "\n",
    "print(\"The Area and Perimeter Program\")  \n",
    "#length = float(input(\"Please enter the length:\\t\"))\n",
    "#width = float(input(\"Please enter the width:\\t\"))\n",
    "\n",
    "compute2(3, 4)\n",
    "compute2(10)"
   ]
  },
  {
   "cell_type": "code",
   "execution_count": 44,
   "metadata": {},
   "outputs": [
    {
     "data": {
      "text/plain": [
       "False"
      ]
     },
     "execution_count": 44,
     "metadata": {},
     "output_type": "execute_result"
    }
   ],
   "source": [
    "age = 5\n",
    "age == 18"
   ]
  },
  {
   "cell_type": "code",
   "execution_count": 38,
   "metadata": {},
   "outputs": [
    {
     "data": {
      "text/plain": [
       "True"
      ]
     },
     "execution_count": 38,
     "metadata": {},
     "output_type": "execute_result"
    }
   ],
   "source": [
    "qty = 10\n",
    "qty != 0"
   ]
  },
  {
   "cell_type": "code",
   "execution_count": 39,
   "metadata": {},
   "outputs": [
    {
     "name": "stdout",
     "output_type": "stream",
     "text": [
      "False\n"
     ]
    }
   ],
   "source": [
    "result = age == 18\n",
    "print(result)"
   ]
  },
  {
   "cell_type": "code",
   "execution_count": 40,
   "metadata": {},
   "outputs": [
    {
     "data": {
      "text/plain": [
       "False"
      ]
     },
     "execution_count": 40,
     "metadata": {},
     "output_type": "execute_result"
    }
   ],
   "source": [
    "age >= 65 and city == \"Gaithersburg\""
   ]
  },
  {
   "cell_type": "code",
   "execution_count": 41,
   "metadata": {},
   "outputs": [
    {
     "ename": "NameError",
     "evalue": "name 'city' is not defined",
     "output_type": "error",
     "traceback": [
      "\u001b[1;31m---------------------------------------------------------------------------\u001b[0m",
      "\u001b[1;31mNameError\u001b[0m                                 Traceback (most recent call last)",
      "\u001b[1;32m<ipython-input-41-7d93cc53d568>\u001b[0m in \u001b[0;36m<module>\u001b[1;34m\u001b[0m\n\u001b[1;32m----> 1\u001b[1;33m \u001b[0mprint\u001b[0m\u001b[1;33m(\u001b[0m\u001b[0mcity\u001b[0m\u001b[1;33m)\u001b[0m\u001b[1;33m\u001b[0m\u001b[1;33m\u001b[0m\u001b[0m\n\u001b[0m",
      "\u001b[1;31mNameError\u001b[0m: name 'city' is not defined"
     ]
    }
   ],
   "source": [
    "print(city)"
   ]
  },
  {
   "cell_type": "code",
   "execution_count": 42,
   "metadata": {},
   "outputs": [
    {
     "data": {
      "text/plain": [
       "True"
      ]
     },
     "execution_count": 42,
     "metadata": {},
     "output_type": "execute_result"
    }
   ],
   "source": [
    "city = \"Gaithersburg\"\n",
    "state = \"MD\"\n",
    "\n",
    "age >= 65 or city == \"Gaithersburg\""
   ]
  },
  {
   "cell_type": "code",
   "execution_count": 43,
   "metadata": {},
   "outputs": [
    {
     "data": {
      "text/plain": [
       "True"
      ]
     },
     "execution_count": 43,
     "metadata": {},
     "output_type": "execute_result"
    }
   ],
   "source": [
    "age >= 65 and city == \"Gaithersburg\" or not result"
   ]
  },
  {
   "cell_type": "code",
   "execution_count": 46,
   "metadata": {},
   "outputs": [
    {
     "data": {
      "text/plain": [
       "False"
      ]
     },
     "execution_count": 46,
     "metadata": {},
     "output_type": "execute_result"
    }
   ],
   "source": [
    "False and True"
   ]
  },
  {
   "cell_type": "code",
   "execution_count": 47,
   "metadata": {},
   "outputs": [
    {
     "data": {
      "text/plain": [
       "True"
      ]
     },
     "execution_count": 47,
     "metadata": {},
     "output_type": "execute_result"
    }
   ],
   "source": [
    "not result"
   ]
  },
  {
   "cell_type": "code",
   "execution_count": 48,
   "metadata": {},
   "outputs": [
    {
     "data": {
      "text/plain": [
       "True"
      ]
     },
     "execution_count": 48,
     "metadata": {},
     "output_type": "execute_result"
    }
   ],
   "source": [
    "False or True"
   ]
  },
  {
   "cell_type": "code",
   "execution_count": 45,
   "metadata": {},
   "outputs": [
    {
     "data": {
      "text/plain": [
       "False"
      ]
     },
     "execution_count": 45,
     "metadata": {},
     "output_type": "execute_result"
    }
   ],
   "source": [
    "age >= 65 and (city == \"Gaithersburg\" or not result)"
   ]
  },
  {
   "cell_type": "code",
   "execution_count": 50,
   "metadata": {},
   "outputs": [
    {
     "data": {
      "text/plain": [
       "False"
      ]
     },
     "execution_count": 50,
     "metadata": {},
     "output_type": "execute_result"
    }
   ],
   "source": [
    "False and False"
   ]
  },
  {
   "cell_type": "code",
   "execution_count": 51,
   "metadata": {},
   "outputs": [
    {
     "data": {
      "text/plain": [
       "True"
      ]
     },
     "execution_count": 51,
     "metadata": {},
     "output_type": "execute_result"
    }
   ],
   "source": [
    "city.lower() == \"gaithersburg\""
   ]
  },
  {
   "cell_type": "code",
   "execution_count": 53,
   "metadata": {},
   "outputs": [
    {
     "data": {
      "text/plain": [
       "False"
      ]
     },
     "execution_count": 53,
     "metadata": {},
     "output_type": "execute_result"
    }
   ],
   "source": [
    "city.upper() == \"gaithersburg\".upper()"
   ]
  },
  {
   "cell_type": "code",
   "execution_count": 55,
   "metadata": {},
   "outputs": [
    {
     "name": "stdout",
     "output_type": "stream",
     "text": [
      "You may vote.\n",
      "This code executes no matter what\n"
     ]
    }
   ],
   "source": [
    " age = 20\n",
    "if age >= 18 :\n",
    "    print(\"You may vote.\")\n",
    "    \n",
    "print(\"This code executes no matter what\")      "
   ]
  },
  {
   "cell_type": "code",
   "execution_count": 57,
   "metadata": {},
   "outputs": [
    {
     "name": "stdout",
     "output_type": "stream",
     "text": [
      "You are too young to vote.\n",
      "Come back in 2 years\n",
      "This code executes no matter what\n"
     ]
    }
   ],
   "source": [
    "age = 16\n",
    "if age >= 18 :\n",
    "    print(\"You may vote.\")\n",
    "else :\n",
    "    print(\"You are too young to vote.\")\n",
    "    print(f\"Come back in {18 - age} years\") \n",
    "    \n",
    "print(\"This code executes no matter what\")   "
   ]
  },
  {
   "cell_type": "code",
   "execution_count": 63,
   "metadata": {},
   "outputs": [
    {
     "name": "stdout",
     "output_type": "stream",
     "text": [
      "Check your eyes\n",
      "This code executes no matter what\n"
     ]
    }
   ],
   "source": [
    "#light_color = \"green\"\n",
    "light_color = \"blue\"\n",
    "\n",
    "if light_color == \"green\" :\n",
    "    print(\"Go\")\n",
    "elif light_color == \"yellow\" :\n",
    "    print(\"Proceed with caution\")\n",
    "elif light_color != \"red\" :\n",
    "    print(\"Check your eyes\")\n",
    "else :\n",
    "    print(\"Stop\")\n",
    "    \n",
    "print(\"This code executes no matter what\")    "
   ]
  },
  {
   "cell_type": "code",
   "execution_count": 66,
   "metadata": {},
   "outputs": [
    {
     "name": "stdout",
     "output_type": "stream",
     "text": [
      "Go\n",
      "Proceed with caution\n",
      "Check your eyes\n",
      "Stop\n"
     ]
    }
   ],
   "source": [
    "def traffic_light(color) :\n",
    "    if color == \"green\" :\n",
    "        print(\"Go\")\n",
    "    elif color == \"yellow\" :\n",
    "        print(\"Proceed with caution\")\n",
    "    elif color != \"red\" :\n",
    "        print(\"Check your eyes\")\n",
    "    else :\n",
    "        print(\"Stop\")\n",
    "        \n",
    "traffic_light(\"green\")     \n",
    "traffic_light(\"yellow\")        \n",
    "traffic_light(\"read\")    \n",
    "traffic_light(\"red\")         "
   ]
  },
  {
   "cell_type": "code",
   "execution_count": 67,
   "metadata": {},
   "outputs": [
    {
     "name": "stdout",
     "output_type": "stream",
     "text": [
      "Kindie\n",
      "High\n",
      "Adult\n"
     ]
    }
   ],
   "source": [
    "def school(age) :\n",
    "    if age < 7 :\n",
    "        print(\"Kindie\")\n",
    "    else : \n",
    "        if age < 13 :\n",
    "            print (\"Elementary\")\n",
    "        else :\n",
    "            if age < 15 :\n",
    "                print (\"Middle\")\n",
    "            else :\n",
    "                if age < 19 :\n",
    "                    print(\"High\")\n",
    "                else :\n",
    "                    print(\"Adult\")\n",
    "                    \n",
    "school(6)\n",
    "school(16)\n",
    "school(26)"
   ]
  },
  {
   "cell_type": "code",
   "execution_count": 68,
   "metadata": {},
   "outputs": [
    {
     "name": "stdout",
     "output_type": "stream",
     "text": [
      "Kindie\n",
      "High\n",
      "Adult\n"
     ]
    }
   ],
   "source": [
    "def school2(age) :\n",
    "    if age < 7 :\n",
    "        print(\"Kindie\")\n",
    "    elif age < 13 :\n",
    "        print (\"Elementary\")\n",
    "    elif age < 15 :\n",
    "        print (\"Middle\")\n",
    "    elif age < 19 :\n",
    "        print(\"High\")\n",
    "    else :\n",
    "        print(\"Adult\")\n",
    "                    \n",
    "school2(6)\n",
    "school2(16)\n",
    "school2(26)"
   ]
  },
  {
   "cell_type": "code",
   "execution_count": null,
   "metadata": {},
   "outputs": [],
   "source": []
  },
  {
   "cell_type": "code",
   "execution_count": null,
   "metadata": {},
   "outputs": [],
   "source": []
  },
  {
   "cell_type": "code",
   "execution_count": null,
   "metadata": {},
   "outputs": [],
   "source": []
  },
  {
   "cell_type": "code",
   "execution_count": 69,
   "metadata": {},
   "outputs": [
    {
     "name": "stdout",
     "output_type": "stream",
     "text": [
      "Enter age:17\n",
      "Have some milk\n",
      "Enter age:22\n",
      "Have some beer\n",
      "Enter age:120\n",
      "Have some prune juice\n"
     ]
    }
   ],
   "source": [
    "# Exercise 2:\n",
    "# Write a function to suggest a beverage based on an age. \n",
    "# In the program, call your function 3 times with different age from the user. \n",
    "\n",
    "def beverage(age) :\n",
    "    if age < 21 :\n",
    "        beverage = \"milk\"\n",
    "    elif age < 80 :  # [21 - 79]\n",
    "        beverage = \"beer\"\n",
    "    else :\n",
    "        beverage = \"prune juice\"\n",
    "        \n",
    "    return \"Have some \" + beverage\n",
    "\n",
    "years = int(input(\"Enter age:\"))\n",
    "print(beverage(years))\n",
    "\n",
    "#years = int(input(\"Enter age:\"))\n",
    "print(beverage(int(input(\"Enter age:\"))))\n",
    "\n",
    "years = int(input(\"Enter age:\"))\n",
    "print(beverage(years))\n"
   ]
  },
  {
   "cell_type": "code",
   "execution_count": 70,
   "metadata": {},
   "outputs": [
    {
     "ename": "ZeroDivisionError",
     "evalue": "division by zero",
     "output_type": "error",
     "traceback": [
      "\u001b[1;31m---------------------------------------------------------------------------\u001b[0m",
      "\u001b[1;31mZeroDivisionError\u001b[0m                         Traceback (most recent call last)",
      "\u001b[1;32m<ipython-input-70-db7a3ebfdd37>\u001b[0m in \u001b[0;36m<module>\u001b[1;34m\u001b[0m\n\u001b[0;32m      1\u001b[0m \u001b[1;31m# Exception Error Handling\u001b[0m\u001b[1;33m\u001b[0m\u001b[1;33m\u001b[0m\u001b[1;33m\u001b[0m\u001b[0m\n\u001b[0;32m      2\u001b[0m \u001b[1;33m\u001b[0m\u001b[0m\n\u001b[1;32m----> 3\u001b[1;33m \u001b[0mprint\u001b[0m\u001b[1;33m(\u001b[0m\u001b[1;36m10\u001b[0m \u001b[1;33m/\u001b[0m \u001b[1;36m0\u001b[0m\u001b[1;33m)\u001b[0m\u001b[1;33m\u001b[0m\u001b[1;33m\u001b[0m\u001b[0m\n\u001b[0m\u001b[0;32m      4\u001b[0m \u001b[0mprint\u001b[0m\u001b[1;33m(\u001b[0m\u001b[1;36m10\u001b[0m \u001b[1;33m/\u001b[0m \u001b[1;36m2\u001b[0m\u001b[1;33m)\u001b[0m\u001b[1;33m\u001b[0m\u001b[1;33m\u001b[0m\u001b[0m\n",
      "\u001b[1;31mZeroDivisionError\u001b[0m: division by zero"
     ]
    }
   ],
   "source": [
    "# Exception Error Handling\n",
    "\n",
    "print(10 / 0)\n",
    "print(10 / 2)"
   ]
  },
  {
   "cell_type": "code",
   "execution_count": 71,
   "metadata": {},
   "outputs": [
    {
     "name": "stdout",
     "output_type": "stream",
     "text": [
      "In test with parm1=10 parm2=0\n",
      "result=0\n",
      "********************\n"
     ]
    }
   ],
   "source": [
    "def test(parm1, parm2) :\n",
    "    print(f\"In test with parm1={parm1} parm2={parm2}\")\n",
    "    \n",
    "    try:\n",
    "        retval = parm1/parm2\n",
    "    except :\n",
    "        retval = 0\n",
    "        \n",
    "    return retval   \n",
    "\n",
    "\n",
    "print(f\"result={test(10, 0)}\")\n",
    "print(\"*\" * 20)"
   ]
  },
  {
   "cell_type": "code",
   "execution_count": 72,
   "metadata": {},
   "outputs": [
    {
     "name": "stdout",
     "output_type": "stream",
     "text": [
      "Enter first number: 10\n",
      "Enter second number: 0\n",
      "In divide with parm1=10 parm2=0\n",
      "***ERROR:  <class 'ZeroDivisionError'> occurred.\n",
      "Next entry.\n",
      "result=0\n",
      "********************\n"
     ]
    }
   ],
   "source": [
    "# import module sys to get the type of exception\n",
    "import sys\n",
    "\n",
    "def divide(parm1, parm2) :\n",
    "    print(f\"In divide with parm1={parm1} parm2={parm2}\")\n",
    "        \n",
    "    try:\n",
    "        retval = parm1/parm2\n",
    "    except:\n",
    "        print(\"***ERROR: \", sys.exc_info()[0], \"occurred.\")\n",
    "        print(\"Next entry.\")\n",
    "        retval = 0\n",
    "        \n",
    "    return retval   \n",
    "\n",
    "val1 = int(input(\"Enter first number: \"))\n",
    "val2 = int(input(\"Enter second number: \")) \n",
    "print(f\"result={divide(val1, val2)}\")\n",
    "print(\"*\" * 20)"
   ]
  },
  {
   "cell_type": "code",
   "execution_count": 73,
   "metadata": {},
   "outputs": [
    {
     "name": "stdout",
     "output_type": "stream",
     "text": [
      "Enter first number: 10\n",
      "Enter second number: 2\n",
      "In divide with parm1=10 parm2=2\n",
      "result=5.0\n",
      "********************\n"
     ]
    }
   ],
   "source": [
    "val1 = int(input(\"Enter first number: \"))\n",
    "val2 = int(input(\"Enter second number: \")) \n",
    "print(f\"result={divide(val1, val2)}\")\n",
    "print(\"*\" * 20)"
   ]
  },
  {
   "cell_type": "code",
   "execution_count": null,
   "metadata": {},
   "outputs": [],
   "source": [
    "# Exercise 3\n",
    "\n",
    "def check_integer(parm1) :\n",
    "        \n",
    "    try:\n",
    "        retval = int(parm1)\n",
    "        retval = True\n",
    "    except:\n",
    "        print(f\"***ERROR: {parm1} is not an integer\")\n",
    "        retval = False\n",
    "        \n",
    "    return retval   \n",
    "\n",
    "val1 = input(\"Enter an integer: \")\n",
    "if (check_integer(val1)) :\n",
    "    print(f\"{val1} is an integer\")\n",
    "\n",
    "print(\"*\" * 20)\n",
    "val1 = input(\"Enter an integer: \")\n",
    "if (check_integer(val1)) :\n",
    "    print(f\"{val1} is an integer\")\n",
    "    \n",
    "print(\"*\" * 20)\n",
    "val1 = input(\"Enter an integer: \")\n",
    "if (check_integer(val1)) :\n",
    "    print(f\"{val1} is an integer\")\n",
    "print(\"*\" * 20)"
   ]
  },
  {
   "cell_type": "code",
   "execution_count": null,
   "metadata": {},
   "outputs": [],
   "source": []
  }
 ],
 "metadata": {
  "kernelspec": {
   "display_name": "Python 3",
   "language": "python",
   "name": "python3"
  },
  "language_info": {
   "codemirror_mode": {
    "name": "ipython",
    "version": 3
   },
   "file_extension": ".py",
   "mimetype": "text/x-python",
   "name": "python",
   "nbconvert_exporter": "python",
   "pygments_lexer": "ipython3",
   "version": "3.7.6"
  }
 },
 "nbformat": 4,
 "nbformat_minor": 4
}
